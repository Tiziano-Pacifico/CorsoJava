{
 "cells": [
  {
   "cell_type": "markdown",
   "id": "cdcd0ead",
   "metadata": {},
   "source": [
    "# 1 Metodi ereditati\n",
    "\n",
    "\n",
    "\n",
    "JpaRepository in Spring Data JPA eredita diversi metodi da diverse interfacce, tra cui PagingAndSortingRepository e CrudRepository. Questi metodi forniscono una vasta gamma di funzionalità per l'accesso e la manipolazione dei dati in un database relazionale. Ecco alcuni dei metodi più comuni e utili ereditati da JpaRepository:\n",
    "\n",
    "### 1) CRUD (Create, Read, Update, Delete) Operations:\n",
    "\n",
    "- save(S entity): Salva un'entità nel database. Può essere utilizzato per inserire o aggiornare un'entità.\n",
    "- saveAll(IterableSet&lt;S&gt; entities): Salva tutte le entità fornite nell'iterabile.\n",
    "- findById(ID id): Recupera un'entità per il suo ID.\n",
    "- findAll(): Restituisce tutte le entità.\n",
    "- findAll(Sort sort): Restituisce tutte le entità ordinate.\n",
    "- findAllById(IterableSet&lt;ID&gt; ids): Restituisce tutte le entità per gli ID forniti.\n",
    "- deleteById(ID id): Elimina l'entità con l'ID specificato.\n",
    "- delete(S entity): Elimina un'entità.\n",
    "- deleteAll(Iterable&lt;? extends T&gt; entities): Elimina tutte le entità nell'iterabile fornito.\n",
    "- deleteAll(): Elimina tutte le entità.\n",
    "\n",
    "### 2) Paging and Sorting:\n",
    "\n",
    "- findAll(Pageable pageable): Restituisce una Page di entità secondo l'oggetto Pageable fornito, che può includere informazioni di paginazione e ordinamento.\n",
    "- findAll(Sort sort): Restituisce tutte le entità ordinate secondo l'oggetto Sort fornito.\n",
    "\n",
    "### 3) Query Methods:\n",
    "\n",
    "- count(): Restituisce il conteggio delle entità.\n",
    "- existsById(ID id): Restituisce true se un'entità con l'ID specificato esiste, altrimenti false."
   ]
  },
  {
   "cell_type": "markdown",
   "id": "d578b4f1",
   "metadata": {},
   "source": [
    "# 2 Metodi personalizati\n",
    "\n",
    "Jpa creerà automaticamente l'implementazione dei metodi sulla base della sintassi con cui sono scritti. Possono ritornare solo entità o collezioni di entità.\n",
    "\n",
    "La sintassi dei metodi personalizzati prevede tre parti differenti:\n",
    "\n",
    "1) <b>Prefisso</b>\n",
    "Indica l'azione. \n",
    "più usati:\n",
    "    - find...By\n",
    "    - read...By\n",
    "    - query...By\n",
    "    - get...By\n",
    "    - count...By -> Long\n",
    "    - exists...By -> boolean\n",
    "    - delete...By\n",
    "    - remove...By\n",
    "2) <b>Soggetto</b>\n",
    "Entità su cui si vuole effettuare la query. Deve avere lo stesso esatto nome della classe che la implementa, case sensitive.\n",
    "3) <b>Condizione</b>\n",
    "Condizione per ridurre l'ampiezza dei risultati. Possono essere combinate con And e Or.\n",
    "Alcune parole chiave:\n",
    "    - GreaterThan\n",
    "    - LessThan\n",
    "    - Containing\n",
    "    - Like"
   ]
  },
  {
   "cell_type": "code",
   "execution_count": null,
   "id": "c2273fd7",
   "metadata": {},
   "outputs": [],
   "source": []
  }
 ],
 "metadata": {
  "kernelspec": {
   "display_name": "tesi10",
   "language": "python",
   "name": "p10"
  },
  "language_info": {
   "codemirror_mode": {
    "name": "ipython",
    "version": 3
   },
   "file_extension": ".py",
   "mimetype": "text/x-python",
   "name": "python",
   "nbconvert_exporter": "python",
   "pygments_lexer": "ipython3",
   "version": "3.10.11"
  }
 },
 "nbformat": 4,
 "nbformat_minor": 5
}
